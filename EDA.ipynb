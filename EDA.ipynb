{
 "cells": [
  {
   "cell_type": "markdown",
   "metadata": {},
   "source": [
    "# EDA and Initial Analysis"
   ]
  },
  {
   "cell_type": "code",
   "execution_count": 2,
   "metadata": {},
   "outputs": [
    {
     "name": "stderr",
     "output_type": "stream",
     "text": [
      "[nltk_data] Downloading package wordnet to\n",
      "[nltk_data]     C:\\Users\\sagun\\AppData\\Roaming\\nltk_data...\n",
      "[nltk_data]   Package wordnet is already up-to-date!\n",
      "[nltk_data] Downloading package averaged_perceptron_tagger to\n",
      "[nltk_data]     C:\\Users\\sagun\\AppData\\Roaming\\nltk_data...\n",
      "[nltk_data]   Package averaged_perceptron_tagger is already up-to-\n",
      "[nltk_data]       date!\n"
     ]
    }
   ],
   "source": [
    "import pandas as pd\n",
    "import numpy as np\n",
    "import nltk\n",
    "import re\n",
    "import spacy\n",
    "import os\n",
    "from sklearn.feature_extraction.text import CountVectorizer, TfidfVectorizer\n",
    "from sklearn.naive_bayes import MultinomialNB\n",
    "from sklearn.model_selection import train_test_split\n",
    "from sklearn.metrics import precision_recall_fscore_support \n",
    "import matplotlib.pyplot as plt\n",
    "from scipy.sparse import identity\n",
    "import cleaning\n",
    "from spacy.attrs import LOWER, POS, ENT_TYPE, IS_ALPHA\n",
    "from spacy.tokens import Doc\n",
    "nlp = spacy.load('en_core_web_sm')\n",
    "import seaborn as sns\n",
    "import pickle\n",
    "from nltk.stem import WordNetLemmatizer\n",
    "nltk.download('wordnet')\n",
    "nltk.download('averaged_perceptron_tagger')\n",
    "from nltk.tokenize import word_tokenize\n",
    "from nltk.corpus import wordnet\n",
    "import joblib"
   ]
  },
  {
   "cell_type": "markdown",
   "metadata": {},
   "source": [
    "## Clean dataset to prep for modeling"
   ]
  },
  {
   "cell_type": "code",
   "execution_count": 2,
   "metadata": {},
   "outputs": [],
   "source": [
    "cmu_summ_final = cleaning.GenreDataFrame(pd.read_csv('booksummaries.txt', delimiter='\\t', names=['Wiki ID','Freebase ID','Title','Author','Pub Date','Genres','Plot Summary']))\n",
    "cmu_summ_final.remove_names()\n",
    "pickle.dump(cmu_summ_final, open(\"save.p\",\"wb\"))"
   ]
  },
  {
   "cell_type": "code",
   "execution_count": 3,
   "metadata": {},
   "outputs": [],
   "source": [
    "cmu_summ_final.df['Sep Genres'] = cmu_summ_final.df['Genres'].str.findall('[A-Z]\\w.+?(?=\"|\\\\\\\\)')"
   ]
  },
  {
   "cell_type": "markdown",
   "metadata": {},
   "source": [
    "Lemmatize all of the summaries"
   ]
  },
  {
   "cell_type": "code",
   "execution_count": 5,
   "metadata": {},
   "outputs": [],
   "source": [
    "lemmatizer = WordNetLemmatizer()\n",
    "def get_wordnet_pos(word):\n",
    "    tag = nltk.pos_tag([word])[0][1][0].upper()\n",
    "    tag_dict = {\"J\":wordnet.ADJ,\n",
    "               \"N\":wordnet.NOUN,\n",
    "               \"V\":wordnet.VERB,\n",
    "               \"R\":wordnet.ADV}\n",
    "    return tag_dict.get(tag, wordnet.NOUN)\n",
    "\n",
    "def lemma_all(doc):\n",
    "    var = [lemmatizer.lemmatize(w, get_wordnet_pos((w))) for w in nltk.word_tokenize(doc)]\n",
    "    return ' '.join(var)\n",
    "\n",
    "def lemma_col(corpus):\n",
    "    new_summ = []\n",
    "    for i in np.arange(len(corpus)):\n",
    "        new_summ.append(lemma_all(corpus[i]))\n",
    "    return new_summ"
   ]
  },
  {
   "cell_type": "code",
   "execution_count": 72,
   "metadata": {},
   "outputs": [],
   "source": [
    "new_summ_col = lemma_col(cmu_summ_final.df['nlpSumm'])\n",
    "cmu_summ_final.df['finalSumm']=new_summ_col\n",
    "pickle.dump(cmu_summ_final, open(\"save2.p\",\"wb\"))"
   ]
  },
  {
   "cell_type": "code",
   "execution_count": 8,
   "metadata": {},
   "outputs": [],
   "source": [
    "cmu = pickle.load(open(\"save2.p\",\"rb\"))\n",
    "single_row = cmu.single_row()\n",
    "single_row = single_row.reset_index().drop('index',axis=1)"
   ]
  },
  {
   "cell_type": "markdown",
   "metadata": {},
   "source": [
    "Create dataframes of genres of form and genres of content, combining to simplier categories of fiction vs nonfiction, and the ten fiction genres used in the analysis"
   ]
  },
  {
   "cell_type": "code",
   "execution_count": 15,
   "metadata": {},
   "outputs": [],
   "source": [
    "ficnonfic_dict = {'Anthology':'Fiction', 'Comic book':'Fiction', 'Comics':'Fiction','Epistolary novel':'Fiction',\n",
    "                      'Ergodic literature':'Fiction', 'Experimental literature':'Fiction','Fiction':'Fiction',\n",
    "                      'First-person narrative':'Fiction', 'Gamebook':'Fiction', 'Graphic novel':'Fiction',\n",
    "                      'Non-fiction novel':'Fiction', 'Novel':'Fiction', 'Novella':'Fiction','Parallel novel':'Fiction',\n",
    "                      'Picture book':'Fiction', 'Play':'Fiction', 'Poetry':'Fiction', 'Prose':'Fiction','Prose poetry':'Fiction',\n",
    "                      'Religious text':'Fiction', 'Role-playing game':'Fiction', 'Serial':'Fiction', 'Short story':'Fiction',\n",
    "                      'Anthropology':'Non-fiction', 'Autobiographical novel':'Non-fiction', 'Autobiography':'Non-fiction', \n",
    "                      'Biographical novel':'Non-fiction', 'Biography':'Non-fiction', 'Business':'Non-fiction',\n",
    "                      'Computer Science':'Non-fiction', 'Creative nonfiction':'Non-fiction', 'Economics':'Non-fiction',\n",
    "                      'Essay':'Non-fiction', 'Literary criticism':'Non-fiction', 'Mathematics':'Non-fiction',\n",
    "                      'Memoir':'Non-fiction', 'Neuroscience':'Non-fiction', 'Non-fiction':'Non-fiction', \n",
    "                      'Personal journal':'Non-fiction', 'Philosophy':'Non-fiction', 'Photography':'Non-fiction',\n",
    "                      'Political philosophy':'Non-fiction', 'Popular culture':'Non-fiction', 'Popular science':'Non-fiction',\n",
    "                      'Science':'Non-fiction', 'Sociology':'Non-fiction', 'Spirituality':'Non-fiction',\n",
    "                      'Sports':'Non-fiction', 'Travel literature':'Non-fiction', 'Treatise':'Non-fiction'}\n",
    "\n",
    "form_df = pd.DataFrame.from_dict(ficnonfic_dict, orient='index')\n",
    "form_df = form_df.reset_index()\n",
    "form_df.columns = ['Forms','FicNonfic']\n",
    "fic_nonfic_df = single_row.merge(form_df, left_on='genre', right_on='Forms', how='outer')\n",
    "fic_nonfic_df = fic_nonfic_df.dropna()"
   ]
  },
  {
   "cell_type": "code",
   "execution_count": 16,
   "metadata": {},
   "outputs": [],
   "source": [
    "com_genre_dict = {'Adventure':'Adventure','Adventure novel':'Adventure', 'Naval Adventure':'Adventure',\n",
    "                      'Alternate history':'Alternate history',\n",
    "                      \"Children's literature\":\"Children's literature\",\"Boys' school stories\":\"Children's literature\",\n",
    "                      'Juvenile fantasy':\"Children's literature\",\n",
    "                      'Comedy':'Comedy', 'Satire':'Comedy','Farce':'Comedy','Comedy of manners':'Comedy','Parody':'Comedy',\n",
    "                      'Tragic comedy':'Comedy','Black comedy':'Comedy','Comic novel':'Comedy',\n",
    "                      'Crime fiction':'Crime fiction', 'Cozy':'Crime fiction',\n",
    "                      'Detective fiction':'Detective fiction', 'Hardboiled':'Detective fiction',\n",
    "                      'Police procedural':'Detective fiction',\n",
    "                      'Spy fiction':'Spy fiction','Cabal':'Spy fiction',\n",
    "                      'Fantasy':'Fantasy','Bangsian fantasy':'Fantasy','Comic fantasy':'Fantasy','Contemporary fantasy':'Fantasy',\n",
    "                      'Dark fantasy':'Fantasy','Fantasy of manners':'Fantasy','Heroic fantasy':'Fantasy','High fantasy':'Fantasy',\n",
    "                      'Historical fantasy':'Fantasy','Low fantasy':'Fantasy','Magic realism':'Fantasy','Sword and sorcery':'Fantasy',\n",
    "                      'Urban fantasy':'Fantasy',\n",
    "                      'Historical fiction':'Historical fiction','Historical novel':'Historical fiction',\n",
    "                      'Historical whodunnit':'Historical fiction','Wuxia':'Historical fiction',\n",
    "                      'Horror':'Horror','American Gothic Fiction':'Horror','Gothic fiction':'Horror','Vampire fiction':'Horror',\n",
    "                      'Zombie':'Horror','Zombies in popular culture':'Horror',\n",
    "                      'Mystery':'Mystery','Whodunit':'Mystery','Locked room mystery':'Mystery',\n",
    "                      'Romance novel':'Romance','Chivalric romance':'Romance','Colonial United States romance':'Romance',\n",
    "                      'Elizabthan romance':'Romance','Georgian romance':'Romance','Historical romance':'Romance',\n",
    "                      'Medieval romance':'Romance','Regency romance':'Romance','Romantic comedy':'Romance',\n",
    "                      'Paranormal romance':'Romance',\n",
    "                      'Science Fiction':'Science fiction','Alien invasion':'Science fiction','Comic science fiction':'Science fiction',\n",
    "                      'Cyberpunk':'Science fiction','Dying Earth subgenre':'Science fiction','Edisonade':'Science fiction',\n",
    "                      'Feminist science fiction':'Science fiction','Future history':'Science fiction','Hard science fiction':'Science fiction',\n",
    "                      'Human extinction':'Science fiction','Invasion literature':'Science fiction','Military science fiction':'Science fiction',\n",
    "                      'Planetary romance':'Science fiction','Postcyberpunk':'Science fiction','Scientific romance':'Science fiction',\n",
    "                      'Social science fiction':'Science fiction','Soft science fiction':'Science fiction','Space opera':'Science fiction',\n",
    "                      'Sword and planet':'Science fiction','Time travel':'Science fiction',\n",
    "                      'Apocalyptic and post-apocalyptic fiction':'Science fiction','Biopunk':'Science fiction','Steampunk':'Science fiction',\n",
    "                      'Subterranean fiction':'Science fiction',\n",
    "                      'Speculative fiction':'Speculative fiction','Dystopia':'Speculative fiction','Superhero fiction':'Speculative fiction',\n",
    "                      'Supernatural':'Speculative fiction','Ghost story':'Speculative fiction','Utopian and dystopian fiction':'Speculative fiction',\n",
    "                      'Utopian fiction':'Speculative fiction',\n",
    "                      'Suspense':'Suspense',\n",
    "                      'Thriller':'Thriller','Techno-thriller':'Thriller','Conspiracy':'Thriller','Conspiracy fiction':'Thriller',\n",
    "                      'Young adult literature':'Young adult literature', 'Bildungsroman':'Young adult literature',\n",
    "                      'Coming of age':'Young adult literature','English public-school stories':'Young adult literature',\n",
    "                      'School story':'Young adult literature','Light novel':'Young adult literature'}\n",
    "\n",
    "com_genre_df = pd.DataFrame.from_dict(com_genre_dict, orient='index')\n",
    "com_genre_df = com_genre_df.reset_index()\n",
    "com_genre_df.columns = ['Subgenres','Genre']\n",
    "fic_genres_df = single_row.merge(com_genre_df, left_on='genre', right_on='Subgenres', how='outer')\n",
    "fic_genres_df = fic_genres_df.dropna()"
   ]
  },
  {
   "cell_type": "markdown",
   "metadata": {},
   "source": [
    "## EDA for whole set"
   ]
  },
  {
   "cell_type": "markdown",
   "metadata": {},
   "source": [
    "### Build full genre list"
   ]
  },
  {
   "cell_type": "code",
   "execution_count": 17,
   "metadata": {},
   "outputs": [],
   "source": [
    "genre_list = single_row['genre']\n",
    "genre_list = set(genre_list)\n",
    "genre_list = list(genre_list)"
   ]
  },
  {
   "cell_type": "code",
   "execution_count": 18,
   "metadata": {},
   "outputs": [],
   "source": [
    "genre_dict = dict.fromkeys(genre_list,0)"
   ]
  },
  {
   "cell_type": "code",
   "execution_count": 19,
   "metadata": {},
   "outputs": [],
   "source": [
    "for i in single_row['genre'][1:]:\n",
    "    genre_dict[i]=genre_dict[i]+1"
   ]
  },
  {
   "cell_type": "markdown",
   "metadata": {},
   "source": [
    "### Use genre list to for all genres and plot"
   ]
  },
  {
   "cell_type": "code",
   "execution_count": 24,
   "metadata": {},
   "outputs": [],
   "source": [
    "genres_df = pd.DataFrame.from_dict(genre_dict, orient='index')\n",
    "genres_df = genres_df.reset_index()\n",
    "genres_df.columns = ['Genre', 'Count']"
   ]
  },
  {
   "cell_type": "code",
   "execution_count": 25,
   "metadata": {},
   "outputs": [
    {
     "data": {
      "text/plain": [
       "Text(0, 0.5, 'Count')"
      ]
     },
     "execution_count": 25,
     "metadata": {},
     "output_type": "execute_result"
    },
    {
     "data": {
      "image/png": "[encoded data removed]",
      "text/plain": [
       "<Figure size 432x288 with 1 Axes>"
      ]
     },
     "metadata": {
      "needs_background": "light"
     },
     "output_type": "display_data"
    }
   ],
   "source": [
    "plt.bar(genres_df.sort_values('Count', ascending=False).head(10)['Genre'],genres_df.sort_values('Count', ascending=False).head(10)['Count'])\n",
    "plt.xticks(rotation=90)\n",
    "plt.title('Most Common Genres')\n",
    "plt.ylabel('Count')"
   ]
  },
  {
   "cell_type": "markdown",
   "metadata": {},
   "source": [
    "### Genre graph without form-based labels"
   ]
  },
  {
   "cell_type": "code",
   "execution_count": 27,
   "metadata": {},
   "outputs": [],
   "source": [
    "genre_den = genres_df.merge(com_genre_df, left_on='Genre', right_on='Subgenres', how='inner').drop(['Subgenres','Genre_x'],axis=1)\n",
    "genre_den['Total'] = genre_den.groupby('Genre_y')['Count'].transform('sum')\n",
    "genre_den = genre_den.drop('Count',axis=1).drop_duplicates('Genre_y')"
   ]
  },
  {
   "cell_type": "code",
   "execution_count": 28,
   "metadata": {},
   "outputs": [
    {
     "data": {
      "text/plain": [
       "Text(0.5, 1.0, 'Most Common by Genre')"
      ]
     },
     "execution_count": 28,
     "metadata": {},
     "output_type": "execute_result"
    },
    {
     "data": {
      "image/png": "[encoded data removed]",
      "text/plain": [
       "<Figure size 432x288 with 1 Axes>"
      ]
     },
     "metadata": {
      "needs_background": "light"
     },
     "output_type": "display_data"
    }
   ],
   "source": [
    "plt.bar(genre_den.sort_values('Total', ascending=False).head(10)['Genre_y'],genre_den.sort_values('Total', ascending=False).head(10)['Total'])\n",
    "plt.xticks(rotation=90)\n",
    "plt.ylabel('Count')\n",
    "plt.title('Most Common by Genre')"
   ]
  },
  {
   "cell_type": "markdown",
   "metadata": {},
   "source": [
    "### Genre graph from form (just fiction vs nonfiction)"
   ]
  },
  {
   "cell_type": "code",
   "execution_count": 29,
   "metadata": {},
   "outputs": [],
   "source": [
    "genre_form = genres_df.merge(form_df, left_on='Genre', right_on='Forms', how='inner').drop(['Forms','Genre'],axis=1)\n",
    "genre_form['Total'] = genre_form.groupby('FicNonfic')['Count'].transform('sum')\n",
    "genre_form = genre_form.drop('Count',axis=1).drop_duplicates('FicNonfic')"
   ]
  },
  {
   "cell_type": "code",
   "execution_count": 30,
   "metadata": {},
   "outputs": [
    {
     "data": {
      "text/plain": [
       "Text(0.5, 1.0, 'Fiction vs Non-fiction')"
      ]
     },
     "execution_count": 30,
     "metadata": {},
     "output_type": "execute_result"
    },
    {
     "data": {
      "image/png": "[encoded data removed]",
      "text/plain": [
       "<Figure size 432x288 with 1 Axes>"
      ]
     },
     "metadata": {
      "needs_background": "light"
     },
     "output_type": "display_data"
    }
   ],
   "source": [
    "plt.bar(genre_form.sort_values('Total', ascending=False).head(10)['FicNonfic'],genre_form.sort_values('Total', ascending=False).head(10)['Total'])\n",
    "plt.xticks(rotation=90)\n",
    "plt.ylabel('Count')\n",
    "plt.title('Fiction vs Non-fiction')"
   ]
  },
  {
   "cell_type": "markdown",
   "metadata": {},
   "source": [
    "### Length of Summaries"
   ]
  },
  {
   "cell_type": "code",
   "execution_count": 31,
   "metadata": {},
   "outputs": [],
   "source": [
    "cmu_summ_final.df['nlpSumm']\n",
    "summ_len_dict = {}\n",
    "for i in np.arange(0,len(cmu_summ_final.df['nlpSumm'])):\n",
    "    summ_len_dict[i] = len(cmu_summ_final.df['nlpSumm'][i])\n",
    "summ_len_df = pd.DataFrame.from_dict(summ_len_dict,orient='index')"
   ]
  },
  {
   "cell_type": "code",
   "execution_count": 33,
   "metadata": {},
   "outputs": [
    {
     "data": {
      "text/plain": [
       "Text(0.5, 0, 'Word Count')"
      ]
     },
     "execution_count": 33,
     "metadata": {},
     "output_type": "execute_result"
    },
    {
     "data": {
      "image/png": "[encoded data removed]",
      "text/plain": [
       "<Figure size 432x288 with 1 Axes>"
      ]
     },
     "metadata": {
      "needs_background": "light"
     },
     "output_type": "display_data"
    }
   ],
   "source": [
    "sns.distplot(summ_len_df.sort_values(by=0).head(9000), kde=False, bins=20)\n",
    "plt.title('Lengths of Summaries')\n",
    "plt.xlabel('Word Count')"
   ]
  },
  {
   "cell_type": "markdown",
   "metadata": {},
   "source": [
    "## Naive Bayes Modeling on Each Genre, including Indicative Words"
   ]
  },
  {
   "cell_type": "markdown",
   "metadata": {},
   "source": [
    "#### Non fiction vs fiction"
   ]
  },
  {
   "cell_type": "code",
   "execution_count": 34,
   "metadata": {},
   "outputs": [],
   "source": [
    "def good_bad_words(vectorizer, test_X1, NB):\n",
    "    words = np.array(vectorizer.get_feature_names())\n",
    "    x = identity(test_X1.shape[1])\n",
    "    probs = NB.predict_log_proba(x)[:,0]\n",
    "    ind = np.argsort(probs)\n",
    "    \n",
    "    good_words = words[ind[:10]]\n",
    "    bad_words = words[ind[-10:]]\n",
    "    bad_words = bad_words[::-1]\n",
    "    good_prob = probs[ind[:10]]\n",
    "    bad_prob = probs[ind[-10:]]\n",
    "    bad_prob = bad_prob[::-1]\n",
    "    \n",
    "    return good_words, bad_words, good_prob, bad_prob"
   ]
  },
  {
   "cell_type": "code",
   "execution_count": 35,
   "metadata": {},
   "outputs": [],
   "source": [
    "def print_words(good_words, bad_words, good_prob, bad_prob,name_cat_1,name_cat_2):\n",
    "    print(name_cat_2)\n",
    "    for w, p in zip(bad_words, bad_prob):\n",
    "        print(\"{:>20}\".format(w), \"{:.2f}\".format(np.exp(p)))\n",
    "    print(\"\\t\")\n",
    "    print(name_cat_1)\n",
    "    for w,p in zip(good_words, good_prob):\n",
    "        print(\"{:>20}\".format(w), \"{:.2f}\".format(np.exp(p)))\n",
    "    print(\"\\t\")"
   ]
  },
  {
   "cell_type": "code",
   "execution_count": 36,
   "metadata": {},
   "outputs": [],
   "source": [
    "def naive_bayes_cmufunc(full_df,column_y,minval,alpha_nb=1):\n",
    "    full_df['id']=full_df[column_y].factorize()[0]\n",
    "    cat_id_df = full_df[[column_y,'id']].drop_duplicates().sort_values('id')\n",
    "    \n",
    "    X = full_df['finalSumm']\n",
    "    y = full_df['id']\n",
    "    train_X, test_X, train_y, test_y = train_test_split(X,y, random_state=42)\n",
    "    \n",
    "    vectorizer = CountVectorizer(stop_words = 'english', min_df = minval)\n",
    "    train_X1 = vectorizer.fit_transform(train_X)\n",
    "    test_X1 = vectorizer.transform(test_X)\n",
    "    vectorizer2 = TfidfVectorizer(stop_words='english', min_df = minval)\n",
    "    train_X2 = vectorizer2.fit_transform(train_X)\n",
    "    test_X2 = vectorizer2.transform(test_X)\n",
    "\n",
    "    NB = MultinomialNB(alpha=alpha_nb)\n",
    "    NB.fit(train_X1,train_y)\n",
    "    NB2 = MultinomialNB(alpha=alpha_nb)\n",
    "    NB2.fit(train_X2, train_y)\n",
    "\n",
    "    accuracy_train1 = NB.score(train_X1,train_y)\n",
    "    accuracy_train2 = NB2.score(train_X2,train_y)\n",
    "    accuracy1 = NB.score(test_X1,test_y)\n",
    "    accuracy2 = NB2.score(test_X2,test_y)\n",
    "    words_1 = good_bad_words(vectorizer, test_X1, NB)\n",
    "    words_2 = good_bad_words(vectorizer2, test_X2, NB2)\n",
    "    \n",
    "    return accuracy_train1, accuracy_train2, accuracy1, accuracy2, words_1, words_2, cat_id_df, NB, NB2,vectorizer,vectorizer2"
   ]
  },
  {
   "cell_type": "code",
   "execution_count": 37,
   "metadata": {},
   "outputs": [],
   "source": [
    "def genre_reduce(genre_df,col_name,col_type):\n",
    "    df1 = genre_df[genre_df[col_name]==col_type]\n",
    "    df2 = genre_df[genre_df[col_name]!=col_type]\n",
    "    df2 = df2.sample(n=len(df1),random_state=42)\n",
    "    together = df1.append(df2)\n",
    "    return together"
   ]
  },
  {
   "cell_type": "code",
   "execution_count": 38,
   "metadata": {},
   "outputs": [],
   "source": [
    "ficnonficfin_df = genre_reduce(fic_nonfic_df,\"FicNonfic\",\"Non-fiction\")"
   ]
  },
  {
   "cell_type": "code",
   "execution_count": 41,
   "metadata": {},
   "outputs": [],
   "source": [
    "[accuracy_train1, accuracy_train2, accuracy1, accuracy2, words_1, words_2, cat_id_df, NB, NB2,c_vect,t_vect] = naive_bayes_cmufunc(ficnonficfin_df,'FicNonfic',0.05)\n",
    "cmu_summ_ficnonfic = {'Training Accuracy':{'Count':accuracy_train1,'Tfidf':accuracy_train2},\n",
    "                      'Testing Accuracy':{'Count':accuracy1,'Tfidf':accuracy2},\n",
    "                      'Words':{'Count':words_1,'Tfidf':words_1},\n",
    "                      'factorize info':cat_id_df,\n",
    "                      'count_model':NB,\n",
    "                      'tfidf_model':NB2,\n",
    "                      'count_vect':c_vect,\n",
    "                      'tfidf_vect':t_vect}"
   ]
  },
  {
   "cell_type": "markdown",
   "metadata": {},
   "source": [
    "View the indicative words of the nonfiction vs. fiction split, both with the tfidf and count vectorizers"
   ]
  },
  {
   "cell_type": "code",
   "execution_count": 42,
   "metadata": {},
   "outputs": [],
   "source": [
    "cmu_summ_ficnonfic['Words']['Count']\n",
    "g1 = cmu_summ_ficnonfic['Words']['Count'][0]\n",
    "b1 = cmu_summ_ficnonfic['Words']['Count'][1]\n",
    "gp1 = cmu_summ_ficnonfic['Words']['Count'][2]\n",
    "bp1 = cmu_summ_ficnonfic['Words']['Count'][3]"
   ]
  },
  {
   "cell_type": "code",
   "execution_count": 43,
   "metadata": {},
   "outputs": [
    {
     "name": "stdout",
     "output_type": "stream",
     "text": [
      "Non Fiction Words\n",
      "              argues 0.93\n",
      "              theory 0.91\n",
      "             chapter 0.88\n",
      "             example 0.86\n",
      "           describes 0.82\n",
      "              author 0.81\n",
      "             subject 0.80\n",
      "               issue 0.80\n",
      "          individual 0.79\n",
      "               spent 0.79\n",
      "\t\n",
      "Fiction Words\n",
      "                ship 0.10\n",
      "             reveals 0.19\n",
      "           discovers 0.20\n",
      "          mysterious 0.21\n",
      "              refuse 0.22\n",
      "              battle 0.22\n",
      "                kill 0.22\n",
      "          apparently 0.23\n",
      "              agrees 0.23\n",
      "              rescue 0.23\n",
      "\t\n"
     ]
    }
   ],
   "source": [
    "print_words(g1,b1,gp1,bp1,'Fiction Words', 'Non Fiction Words')"
   ]
  },
  {
   "cell_type": "code",
   "execution_count": 44,
   "metadata": {},
   "outputs": [],
   "source": [
    "cmu_summ_ficnonfic['Words']['Tfidf']\n",
    "g2 = cmu_summ_ficnonfic['Words']['Tfidf'][0]\n",
    "b2 = cmu_summ_ficnonfic['Words']['Tfidf'][1]\n",
    "gp2 = cmu_summ_ficnonfic['Words']['Tfidf'][2]\n",
    "bp2 = cmu_summ_ficnonfic['Words']['Tfidf'][3]"
   ]
  },
  {
   "cell_type": "code",
   "execution_count": 45,
   "metadata": {},
   "outputs": [
    {
     "name": "stdout",
     "output_type": "stream",
     "text": [
      "Fic Words\n",
      "              argues 0.93\n",
      "              theory 0.91\n",
      "             chapter 0.88\n",
      "             example 0.86\n",
      "           describes 0.82\n",
      "              author 0.81\n",
      "             subject 0.80\n",
      "               issue 0.80\n",
      "          individual 0.79\n",
      "               spent 0.79\n",
      "\t\n",
      "Non Fic Words\n",
      "                ship 0.10\n",
      "             reveals 0.19\n",
      "           discovers 0.20\n",
      "          mysterious 0.21\n",
      "              refuse 0.22\n",
      "              battle 0.22\n",
      "                kill 0.22\n",
      "          apparently 0.23\n",
      "              agrees 0.23\n",
      "              rescue 0.23\n",
      "\t\n"
     ]
    }
   ],
   "source": [
    "print_words(g2,b2,gp2,bp2,'Non Fic Words', 'Fic Words')"
   ]
  },
  {
   "cell_type": "markdown",
   "metadata": {},
   "source": [
    " #### Fiction genres"
   ]
  },
  {
   "cell_type": "code",
   "execution_count": 51,
   "metadata": {},
   "outputs": [],
   "source": [
    "def genre_group(summ_df, genre, non_genre,new_col, non_after=False):\n",
    "    fic_summ = summ_df.drop(['genre','Subgenres'], axis=1)\n",
    "    fic_summ.loc[fic_summ['Genre']==genre, new_col] = genre\n",
    "    fic_summ.loc[fic_summ['Genre']!=genre, new_col] = non_genre\n",
    "    fic_summ = fic_summ.sort_values(new_col, ascending=non_after).drop_duplicates('Title')\n",
    "    return fic_summ"
   ]
  },
  {
   "cell_type": "code",
   "execution_count": 52,
   "metadata": {},
   "outputs": [],
   "source": [
    "fic_spec = genre_group(fic_genres_df, 'Speculative fiction','NonSpec','SpecFic')\n",
    "fic_scifi = genre_group(fic_genres_df, 'Science fiction','NonSci','SciFi')\n",
    "fic_fan = genre_group(fic_genres_df, 'Fantasy','NonFan','Fantasy', non_after=True)\n",
    "fic_child = genre_group(fic_genres_df, \"Children's literature\",'NonChild','Child', non_after=True)\n",
    "fic_mys = genre_group(fic_genres_df, 'Mystery','NonMys','Mystery', non_after=True)\n",
    "fic_hist = genre_group(fic_genres_df, 'Historical fiction','NonHist','Hist', non_after=True)\n",
    "fic_you = genre_group(fic_genres_df, 'Young adult literature','NonYou','Young')\n",
    "fic_sus = genre_group(fic_genres_df, 'Suspense','NonSus','Susp')\n",
    "fic_hor = genre_group(fic_genres_df, 'Horror','NonHor','Horror', non_after=True)\n",
    "fic_thr = genre_group(fic_genres_df, 'Thriller','NonThr','Thriller')"
   ]
  },
  {
   "cell_type": "code",
   "execution_count": 53,
   "metadata": {},
   "outputs": [],
   "source": [
    "fic_spec2 = fic_spec #this particular set already almost has parody, so it doesn't get reduced\n",
    "fic_scifi2 = genre_reduce(fic_scifi,'SciFi','Science fiction')\n",
    "fic_fan2 = genre_reduce(fic_fan,'Fantasy','Fantasy')\n",
    "fic_child2 = genre_reduce(fic_child,'Child',\"Children's literature\")\n",
    "fic_mys2 = genre_reduce(fic_mys,'Mystery','Mystery')\n",
    "fic_hist2 = genre_reduce(fic_hist,'Hist','Historical fiction')\n",
    "fic_you2 = genre_reduce(fic_you,'Young','Young adult literature')\n",
    "fic_sus2 = genre_reduce(fic_sus,'Susp','Suspense')\n",
    "fic_hor2 = genre_reduce(fic_hor,'Horror','Horror')\n",
    "fic_thr2 = genre_reduce(fic_thr,'Thriller','Thriller')"
   ]
  },
  {
   "cell_type": "code",
   "execution_count": 54,
   "metadata": {},
   "outputs": [],
   "source": [
    "def naive_bayes_dict(df,column,mindf_val,alpha_nb=1):\n",
    "    [accuracy_train1, accuracy_train2, accuracy1, accuracy2, words_1, words_2, cat_id_df,NB,NB2,c_vect,t_vect] = naive_bayes_cmufunc(df,column,mindf_val,alpha_nb)\n",
    "    final_dict = {'Training Accuracy':{'Count':accuracy_train1,'Tfidf':accuracy_train2},\n",
    "                      'Testing Accuracy':{'Count':accuracy1,'Tfidf':accuracy2},\n",
    "                      'Words':{'Count':words_1,'Tfidf':words_1},\n",
    "                      'factorize info':cat_id_df,\n",
    "                      'count_model':NB,\n",
    "                      'tfidf_model':NB2,\n",
    "                      'count_vect':c_vect,\n",
    "                      'tfidf_vect':t_vect}\n",
    "    return final_dict"
   ]
  },
  {
   "cell_type": "markdown",
   "metadata": {},
   "source": [
    "Note that the min_df value was chosen via cross validation at an earlier point, hence the values seen in the models below. It was also restricted to the range from 0.01 to 0.01, to keep the dictionary as large as possible"
   ]
  },
  {
   "cell_type": "code",
   "execution_count": 55,
   "metadata": {},
   "outputs": [],
   "source": [
    "cmu_summ_specfic = naive_bayes_dict(fic_spec2,'SpecFic',0.02)\n",
    "cmu_summ_scifi = naive_bayes_dict(fic_scifi2, 'SciFi',0.02)\n",
    "cmu_summ_fan = naive_bayes_dict(fic_fan2, 'Fantasy',0.05)\n",
    "cmu_summ_child = naive_bayes_dict(fic_child2, 'Child',0.07)\n",
    "cmu_summ_mys = naive_bayes_dict(fic_mys2, 'Mystery',0.03)\n",
    "cmu_summ_hist = naive_bayes_dict(fic_hist2, 'Hist',0.04)\n",
    "cmu_summ_you = naive_bayes_dict(fic_you2, 'Young',0.02)\n",
    "cmu_summ_sus = naive_bayes_dict(fic_sus2, 'Susp',0.04)\n",
    "cmu_summ_hor = naive_bayes_dict(fic_hor2, 'Horror',0.09)\n",
    "cmu_summ_thr = naive_bayes_dict(fic_thr2, 'Thriller',0.08)"
   ]
  },
  {
   "cell_type": "code",
   "execution_count": 56,
   "metadata": {},
   "outputs": [],
   "source": [
    "cmu_summ_full = {\"Speculative fiction\":cmu_summ_specfic,\n",
    "                \"Science fiction\": cmu_summ_scifi,\n",
    "                \"Fantasy\": cmu_summ_fan,\n",
    "                \"Children's literature\":cmu_summ_child,\n",
    "                \"Mystery\":cmu_summ_mys,\n",
    "                \"Historical fiction\":cmu_summ_hist,\n",
    "                \"Young adult literature\":cmu_summ_you,\n",
    "                \"Suspense\":cmu_summ_sus,\n",
    "                \"Horror\":cmu_summ_hor,\n",
    "                \"Thriller\":cmu_summ_thr,\n",
    "                \"FicnonFic\":cmu_summ_ficnonfic}"
   ]
  },
  {
   "cell_type": "markdown",
   "metadata": {},
   "source": [
    "Pickle the models for future use (pickle for internal use, joblib for website)"
   ]
  },
  {
   "cell_type": "code",
   "execution_count": 57,
   "metadata": {},
   "outputs": [],
   "source": [
    "pickle.dump(cmu_summ_full, open(\"nb_builds.p\",\"wb\"))\n",
    "joblib.dump(cmu_summ_full, 'nb_builds.p')"
   ]
  },
  {
   "cell_type": "markdown",
   "metadata": {},
   "source": [
    "Indicative Words for all fiction genres"
   ]
  },
  {
   "cell_type": "code",
   "execution_count": 58,
   "metadata": {},
   "outputs": [],
   "source": [
    "def print_words_all(summ_dict, not_label, label):\n",
    "    g1 = summ_dict['Words']['Count'][0]\n",
    "    b1 = summ_dict['Words']['Count'][1]\n",
    "    gp1 = summ_dict['Words']['Count'][2]\n",
    "    bp1 = summ_dict['Words']['Count'][3]\n",
    "\n",
    "    print_words(g1,b1,gp1,bp1,not_label,label)\n",
    "    \n",
    "    g2 = summ_dict['Words']['Tfidf'][0]\n",
    "    b2 = summ_dict['Words']['Tfidf'][1]\n",
    "    gp2 = summ_dict['Words']['Tfidf'][2]\n",
    "    bp2 = summ_dict['Words']['Tfidf'][3]\n",
    "\n",
    "    print_words(g2,b2,gp2,bp2,not_label,label)\n",
    "    \n",
    "    print(summ_dict['Training Accuracy']['Count'], summ_dict['Testing Accuracy']['Count'], summ_dict['Training Accuracy']['Tfidf'], summ_dict['Testing Accuracy']['Tfidf'])"
   ]
  },
  {
   "cell_type": "code",
   "execution_count": 59,
   "metadata": {},
   "outputs": [
    {
     "name": "stdout",
     "output_type": "stream",
     "text": [
      "Speculative fiction\n",
      "              specie 0.78\n",
      "        civilization 0.77\n",
      "               orbit 0.76\n",
      "               demon 0.76\n",
      "             magical 0.76\n",
      "              colony 0.76\n",
      "              galaxy 0.75\n",
      "               space 0.74\n",
      "            humanity 0.74\n",
      "              planet 0.73\n",
      "\t\n",
      "Non Spec\n",
      "              french 0.20\n",
      "                bond 0.21\n",
      "             russian 0.22\n",
      "           detective 0.24\n",
      "            murderer 0.24\n",
      "              letter 0.24\n",
      "             british 0.25\n",
      "               hotel 0.25\n",
      "                bank 0.26\n",
      "                lady 0.26\n",
      "\t\n",
      "Speculative fiction\n",
      "              specie 0.78\n",
      "        civilization 0.77\n",
      "               orbit 0.76\n",
      "               demon 0.76\n",
      "             magical 0.76\n",
      "              colony 0.76\n",
      "              galaxy 0.75\n",
      "               space 0.74\n",
      "            humanity 0.74\n",
      "              planet 0.73\n",
      "\t\n",
      "Non Spec\n",
      "              french 0.20\n",
      "                bond 0.21\n",
      "             russian 0.22\n",
      "           detective 0.24\n",
      "            murderer 0.24\n",
      "              letter 0.24\n",
      "             british 0.25\n",
      "               hotel 0.25\n",
      "                bank 0.26\n",
      "                lady 0.26\n",
      "\t\n",
      "0.7092839718754484 0.709427464485579 0.7199024250251113 0.7180370210934137\n"
     ]
    }
   ],
   "source": [
    "print_words_all(cmu_summ_specfic,'Non Spec','Speculative fiction')"
   ]
  },
  {
   "cell_type": "code",
   "execution_count": 60,
   "metadata": {},
   "outputs": [
    {
     "name": "stdout",
     "output_type": "stream",
     "text": [
      "Sci Fi\n",
      "              galaxy 0.99\n",
      "               orbit 0.97\n",
      "              planet 0.97\n",
      "               alien 0.95\n",
      "           spaceship 0.95\n",
      "               space 0.94\n",
      "               robot 0.94\n",
      "          technology 0.93\n",
      "            colonist 0.93\n",
      "               solar 0.93\n",
      "\t\n",
      "Non Sci Fi\n",
      "                aunt 0.08\n",
      "              lawyer 0.16\n",
      "           detective 0.18\n",
      "              french 0.18\n",
      "         grandmother 0.18\n",
      "              letter 0.19\n",
      "               money 0.20\n",
      "               marry 0.20\n",
      "             wedding 0.21\n",
      "            birthday 0.22\n",
      "\t\n",
      "Sci Fi\n",
      "              galaxy 0.99\n",
      "               orbit 0.97\n",
      "              planet 0.97\n",
      "               alien 0.95\n",
      "           spaceship 0.95\n",
      "               space 0.94\n",
      "               robot 0.94\n",
      "          technology 0.93\n",
      "            colonist 0.93\n",
      "               solar 0.93\n",
      "\t\n",
      "Non Sci Fi\n",
      "                aunt 0.08\n",
      "              lawyer 0.16\n",
      "           detective 0.18\n",
      "              french 0.18\n",
      "         grandmother 0.18\n",
      "              letter 0.19\n",
      "               money 0.20\n",
      "               marry 0.20\n",
      "             wedding 0.21\n",
      "            birthday 0.22\n",
      "\t\n",
      "0.7939698492462312 0.7846374730796841 0.8071308925580283 0.7875089734386217\n"
     ]
    }
   ],
   "source": [
    "print_words_all(cmu_summ_scifi,'Non Sci Fi','Sci Fi')"
   ]
  },
  {
   "cell_type": "code",
   "execution_count": 61,
   "metadata": {},
   "outputs": [
    {
     "name": "stdout",
     "output_type": "stream",
     "text": [
      "Fantasy\n",
      "             magical 0.97\n",
      "               magic 0.96\n",
      "              dragon 0.94\n",
      "               spell 0.94\n",
      "               sword 0.87\n",
      "             kingdom 0.84\n",
      "                 god 0.84\n",
      "             warrior 0.83\n",
      "               quest 0.81\n",
      "                king 0.80\n",
      "\t\n",
      "Non Fantasy\n",
      "            american 0.18\n",
      "               money 0.18\n",
      "          government 0.22\n",
      "             officer 0.23\n",
      "               agent 0.23\n",
      "              police 0.23\n",
      "                 car 0.24\n",
      "                case 0.26\n",
      "            military 0.27\n",
      "             suicide 0.28\n",
      "\t\n",
      "Fantasy\n",
      "             magical 0.97\n",
      "               magic 0.96\n",
      "              dragon 0.94\n",
      "               spell 0.94\n",
      "               sword 0.87\n",
      "             kingdom 0.84\n",
      "                 god 0.84\n",
      "             warrior 0.83\n",
      "               quest 0.81\n",
      "                king 0.80\n",
      "\t\n",
      "Non Fantasy\n",
      "            american 0.18\n",
      "               money 0.18\n",
      "          government 0.22\n",
      "             officer 0.23\n",
      "               agent 0.23\n",
      "              police 0.23\n",
      "                 car 0.24\n",
      "                case 0.26\n",
      "            military 0.27\n",
      "             suicide 0.28\n",
      "\t\n",
      "0.7737594617325484 0.7451640033641715 0.7810485001401738 0.7359125315391085\n"
     ]
    }
   ],
   "source": [
    "print_words_all(cmu_summ_fan,'Non Fantasy','Fantasy')"
   ]
  },
  {
   "cell_type": "code",
   "execution_count": 62,
   "metadata": {},
   "outputs": [
    {
     "name": "stdout",
     "output_type": "stream",
     "text": [
      "Children's Literature\n",
      "              school 0.75\n",
      "                 boy 0.70\n",
      "              parent 0.68\n",
      "                play 0.68\n",
      "                girl 0.65\n",
      "              mother 0.65\n",
      "              little 0.64\n",
      "               house 0.63\n",
      "           adventure 0.63\n",
      "                home 0.63\n",
      "\t\n",
      "Non Children's\n",
      "              planet 0.15\n",
      "             contact 0.25\n",
      "         information 0.29\n",
      "             mission 0.33\n",
      "              future 0.33\n",
      "              murder 0.34\n",
      "                ship 0.34\n",
      "                case 0.34\n",
      "                 men 0.35\n",
      "             various 0.35\n",
      "\t\n",
      "Children's Literature\n",
      "              school 0.75\n",
      "                 boy 0.70\n",
      "              parent 0.68\n",
      "                play 0.68\n",
      "                girl 0.65\n",
      "              mother 0.65\n",
      "              little 0.64\n",
      "               house 0.63\n",
      "           adventure 0.63\n",
      "                home 0.63\n",
      "\t\n",
      "Non Children's\n",
      "              planet 0.15\n",
      "             contact 0.25\n",
      "         information 0.29\n",
      "             mission 0.33\n",
      "              future 0.33\n",
      "              murder 0.34\n",
      "                ship 0.34\n",
      "                case 0.34\n",
      "                 men 0.35\n",
      "             various 0.35\n",
      "\t\n",
      "0.7115641711229946 0.6843687374749499 0.7306149732620321 0.7014028056112225\n"
     ]
    }
   ],
   "source": [
    "print_words_all(cmu_summ_child,\"Non Children's\",\"Children's Literature\")"
   ]
  },
  {
   "cell_type": "code",
   "execution_count": 63,
   "metadata": {},
   "outputs": [
    {
     "name": "stdout",
     "output_type": "stream",
     "text": [
      "Mystery\n",
      "            murderer 0.92\n",
      "           detective 0.89\n",
      "               solve 0.87\n",
      "              lawyer 0.87\n",
      "              killer 0.87\n",
      "              murder 0.85\n",
      "       investigation 0.85\n",
      "                case 0.84\n",
      "               crime 0.83\n",
      "             mystery 0.82\n",
      "\t\n",
      "Non Mystery\n",
      "              planet 0.06\n",
      "               space 0.10\n",
      "         destruction 0.15\n",
      "               alien 0.17\n",
      "               slave 0.18\n",
      "                king 0.18\n",
      "               earth 0.19\n",
      "             soldier 0.20\n",
      "               quest 0.20\n",
      "             journey 0.20\n",
      "\t\n",
      "Mystery\n",
      "            murderer 0.92\n",
      "           detective 0.89\n",
      "               solve 0.87\n",
      "              lawyer 0.87\n",
      "              killer 0.87\n",
      "              murder 0.85\n",
      "       investigation 0.85\n",
      "                case 0.84\n",
      "               crime 0.83\n",
      "             mystery 0.82\n",
      "\t\n",
      "Non Mystery\n",
      "              planet 0.06\n",
      "               space 0.10\n",
      "         destruction 0.15\n",
      "               alien 0.17\n",
      "               slave 0.18\n",
      "                king 0.18\n",
      "               earth 0.19\n",
      "             soldier 0.20\n",
      "               quest 0.20\n",
      "             journey 0.20\n",
      "\t\n",
      "0.8191646191646191 0.8203240058910162 0.8378378378378378 0.8203240058910162\n"
     ]
    }
   ],
   "source": [
    "print_words_all(cmu_summ_mys,'Non Mystery','Mystery')"
   ]
  },
  {
   "cell_type": "code",
   "execution_count": 64,
   "metadata": {},
   "outputs": [
    {
     "name": "stdout",
     "output_type": "stream",
     "text": [
      "Historical Fiction\n",
      "              french 0.89\n",
      "          historical 0.82\n",
      "             english 0.82\n",
      "           political 0.80\n",
      "             british 0.77\n",
      "              priest 0.76\n",
      "               slave 0.76\n",
      "            marriage 0.76\n",
      "             soldier 0.76\n",
      "             wealthy 0.76\n",
      "\t\n",
      "Non Hist Fic\n",
      "              planet 0.01\n",
      "               human 0.09\n",
      "            creature 0.12\n",
      "                 fly 0.18\n",
      "              police 0.18\n",
      "             ability 0.19\n",
      "             problem 0.20\n",
      "               world 0.20\n",
      "                game 0.25\n",
      "             destroy 0.25\n",
      "\t\n",
      "Historical Fiction\n",
      "              french 0.89\n",
      "          historical 0.82\n",
      "             english 0.82\n",
      "           political 0.80\n",
      "             british 0.77\n",
      "              priest 0.76\n",
      "               slave 0.76\n",
      "            marriage 0.76\n",
      "             soldier 0.76\n",
      "             wealthy 0.76\n",
      "\t\n",
      "Non Hist Fic\n",
      "              planet 0.01\n",
      "               human 0.09\n",
      "            creature 0.12\n",
      "                 fly 0.18\n",
      "              police 0.18\n",
      "             ability 0.19\n",
      "             problem 0.20\n",
      "               world 0.20\n",
      "                game 0.25\n",
      "             destroy 0.25\n",
      "\t\n",
      "0.8154538634658665 0.7887640449438202 0.8432108027006752 0.7932584269662921\n"
     ]
    }
   ],
   "source": [
    "print_words_all(cmu_summ_hist,'Non Hist Fic','Historical Fiction')"
   ]
  },
  {
   "cell_type": "code",
   "execution_count": 65,
   "metadata": {},
   "outputs": [
    {
     "name": "stdout",
     "output_type": "stream",
     "text": [
      "Young Adult\n",
      "                teen 0.90\n",
      "                 mom 0.88\n",
      "           boyfriend 0.87\n",
      "                kiss 0.87\n",
      "                 dad 0.85\n",
      "               grade 0.82\n",
      "            argument 0.81\n",
      "         grandmother 0.81\n",
      "             college 0.80\n",
      "             sixteen 0.79\n",
      "\t\n",
      "Non Young Adult\n",
      "            humanity 0.06\n",
      "               alien 0.13\n",
      "            murderer 0.14\n",
      "            invasion 0.14\n",
      "             nuclear 0.15\n",
      "               troop 0.16\n",
      "              nation 0.16\n",
      "        intelligence 0.17\n",
      "                ally 0.17\n",
      "          assistance 0.17\n",
      "\t\n",
      "Young Adult\n",
      "                teen 0.90\n",
      "                 mom 0.88\n",
      "           boyfriend 0.87\n",
      "                kiss 0.87\n",
      "                 dad 0.85\n",
      "               grade 0.82\n",
      "            argument 0.81\n",
      "         grandmother 0.81\n",
      "             college 0.80\n",
      "             sixteen 0.79\n",
      "\t\n",
      "Non Young Adult\n",
      "            humanity 0.06\n",
      "               alien 0.13\n",
      "            murderer 0.14\n",
      "            invasion 0.14\n",
      "             nuclear 0.15\n",
      "               troop 0.16\n",
      "              nation 0.16\n",
      "        intelligence 0.17\n",
      "                ally 0.17\n",
      "          assistance 0.17\n",
      "\t\n",
      "0.7993109388458226 0.772609819121447 0.8217054263565892 0.7751937984496124\n"
     ]
    }
   ],
   "source": [
    "print_words_all(cmu_summ_you,'Non Young Adult','Young Adult')"
   ]
  },
  {
   "cell_type": "code",
   "execution_count": 66,
   "metadata": {},
   "outputs": [
    {
     "name": "stdout",
     "output_type": "stream",
     "text": [
      "Suspense\n",
      "              lawyer 0.90\n",
      "               phone 0.86\n",
      "       investigation 0.85\n",
      "            murderer 0.84\n",
      "           blackmail 0.84\n",
      "              murder 0.84\n",
      "              police 0.82\n",
      "           detective 0.82\n",
      "                case 0.81\n",
      "              estate 0.80\n",
      "\t\n",
      "Non Suspense\n",
      "              planet 0.06\n",
      "               human 0.18\n",
      "               space 0.20\n",
      "              defeat 0.21\n",
      "             century 0.23\n",
      "             journey 0.23\n",
      "                army 0.23\n",
      "                ship 0.23\n",
      "                city 0.24\n",
      "              animal 0.24\n",
      "\t\n",
      "Suspense\n",
      "              lawyer 0.90\n",
      "               phone 0.86\n",
      "       investigation 0.85\n",
      "            murderer 0.84\n",
      "           blackmail 0.84\n",
      "              murder 0.84\n",
      "              police 0.82\n",
      "           detective 0.82\n",
      "                case 0.81\n",
      "              estate 0.80\n",
      "\t\n",
      "Non Suspense\n",
      "              planet 0.06\n",
      "               human 0.18\n",
      "               space 0.20\n",
      "              defeat 0.21\n",
      "             century 0.23\n",
      "             journey 0.23\n",
      "                army 0.23\n",
      "                ship 0.23\n",
      "                city 0.24\n",
      "              animal 0.24\n",
      "\t\n",
      "0.8084358523725835 0.7789473684210526 0.819859402460457 0.7710526315789473\n"
     ]
    }
   ],
   "source": [
    "print_words_all(cmu_summ_sus,'Non Suspense','Suspense')"
   ]
  },
  {
   "cell_type": "code",
   "execution_count": 67,
   "metadata": {},
   "outputs": [
    {
     "name": "stdout",
     "output_type": "stream",
     "text": [
      "Horror\n",
      "             vampire 0.91\n",
      "               blood 0.80\n",
      "                room 0.65\n",
      "                trap 0.64\n",
      "               night 0.62\n",
      "             reveals 0.62\n",
      "                fear 0.61\n",
      "                kill 0.61\n",
      "             strange 0.61\n",
      "              figure 0.61\n",
      "\t\n",
      "Non Horror\n",
      "                 war 0.26\n",
      "                plot 0.29\n",
      "               party 0.32\n",
      "                land 0.32\n",
      "              police 0.34\n",
      "                ship 0.34\n",
      "             journey 0.35\n",
      "                work 0.35\n",
      "               marry 0.35\n",
      "              leader 0.36\n",
      "\t\n",
      "Horror\n",
      "             vampire 0.91\n",
      "               blood 0.80\n",
      "                room 0.65\n",
      "                trap 0.64\n",
      "               night 0.62\n",
      "             reveals 0.62\n",
      "                fear 0.61\n",
      "                kill 0.61\n",
      "             strange 0.61\n",
      "              figure 0.61\n",
      "\t\n",
      "Non Horror\n",
      "                 war 0.26\n",
      "                plot 0.29\n",
      "               party 0.32\n",
      "                land 0.32\n",
      "              police 0.34\n",
      "                ship 0.34\n",
      "             journey 0.35\n",
      "                work 0.35\n",
      "               marry 0.35\n",
      "              leader 0.36\n",
      "\t\n",
      "0.7555555555555555 0.7263157894736842 0.7602339181286549 0.7543859649122807\n"
     ]
    }
   ],
   "source": [
    "print_words_all(cmu_summ_hor,'Non Horror','Horror')"
   ]
  },
  {
   "cell_type": "code",
   "execution_count": 68,
   "metadata": {},
   "outputs": [
    {
     "name": "stdout",
     "output_type": "stream",
     "text": [
      "Thriller\n",
      "               agent 0.82\n",
      "                team 0.82\n",
      "       investigation 0.77\n",
      "                shot 0.75\n",
      "         information 0.72\n",
      "             mission 0.72\n",
      "                plot 0.72\n",
      "               shoot 0.71\n",
      "                 car 0.71\n",
      "          government 0.71\n",
      "\t\n",
      "Non Thriller\n",
      "             journey 0.25\n",
      "               human 0.28\n",
      "                city 0.30\n",
      "           encounter 0.33\n",
      "              travel 0.33\n",
      "               great 0.34\n",
      "              little 0.35\n",
      "              living 0.35\n",
      "                away 0.35\n",
      "              mother 0.36\n",
      "\t\n",
      "Thriller\n",
      "               agent 0.82\n",
      "                team 0.82\n",
      "       investigation 0.77\n",
      "                shot 0.75\n",
      "         information 0.72\n",
      "             mission 0.72\n",
      "                plot 0.72\n",
      "               shoot 0.71\n",
      "                 car 0.71\n",
      "          government 0.71\n",
      "\t\n",
      "Non Thriller\n",
      "             journey 0.25\n",
      "               human 0.28\n",
      "                city 0.30\n",
      "           encounter 0.33\n",
      "              travel 0.33\n",
      "               great 0.34\n",
      "              little 0.35\n",
      "              living 0.35\n",
      "                away 0.35\n",
      "              mother 0.36\n",
      "\t\n",
      "0.7312572087658593 0.6920415224913494 0.7520184544405998 0.7231833910034602\n"
     ]
    }
   ],
   "source": [
    "print_words_all(cmu_summ_thr,'Non Thriller','Thriller')"
   ]
  },
  {
   "cell_type": "markdown",
   "metadata": {},
   "source": [
    "### Create testing framework for a given piece of text"
   ]
  },
  {
   "cell_type": "markdown",
   "metadata": {},
   "source": [
    "For the final version of this code, including the Twitter protocol, go to the website_build folder on github and via predictions.py"
   ]
  },
  {
   "cell_type": "code",
   "execution_count": 70,
   "metadata": {},
   "outputs": [],
   "source": [
    "def check_ficnonfic(test_text):\n",
    "    test_text = cmu_summ_ficnonfic['count_vect'].transform(test_text)\n",
    "    prob = cmu_summ_ficnonfic['count_model'].predict_proba(test_text)[0][0]\n",
    "    return prob"
   ]
  },
  {
   "cell_type": "code",
   "execution_count": 71,
   "metadata": {},
   "outputs": [],
   "source": [
    "def check_genre(test_text,genre_dict,vect_type,model_type):\n",
    "    test_text = genre_dict[vect_type].transform(test_text)\n",
    "    prob = genre_dict[model_type].predict_proba(test_text)[0][0]\n",
    "    return prob"
   ]
  },
  {
   "cell_type": "code",
   "execution_count": 72,
   "metadata": {},
   "outputs": [],
   "source": [
    "def test_genre(test_test):\n",
    "    genre_dict_list = [cmu_summ_specfic,cmu_summ_scifi,cmu_summ_fan,cmu_summ_child,cmu_summ_mys,cmu_summ_hist,cmu_summ_you,\n",
    "                      cmu_summ_sus,cmu_summ_hor,cmu_summ_thr]\n",
    "    genre_vect_list = ['tfidf_vect','count_vect','count_vect','count_vect','tfidf_vect','count_vect','count_vect','count_vect',\n",
    "                      'tfidf_vect','tfidf_vect']\n",
    "    genre_model_list = ['tfidf_model','count_model','count_model','count_model','tfidf_model','count_model','count_model',\n",
    "                       'count_model','tfidf_model','tfidf_model']\n",
    "    genre_list = ['Speculative Fiction','Science fiction','Fantasy',\"Children's literature\",'Mystery','Historical fiction',\n",
    "                 'Young adult literature','Suspense','Horror','Thriller']\n",
    "    genre_values = {}\n",
    "    i=0\n",
    "    for genre_dict in genre_dict_list:\n",
    "        genre_values[genre_list[i]] = check_genre(test_test,genre_dict,genre_vect_list[i],genre_model_list[i])\n",
    "        i = i+1\n",
    "    genre_values = pd.DataFrame.from_dict(genre_values, orient='index')\n",
    "    genre_values.columns = ['Probability']\n",
    "    genre_values = genre_values.sort_values(by='Probability', ascending=False)\n",
    "    return genre_values"
   ]
  },
  {
   "cell_type": "code",
   "execution_count": 79,
   "metadata": {},
   "outputs": [],
   "source": [
    "def clean_test(test_text):\n",
    "    test_nlp = nlp(test_text)\n",
    "    indexes = []\n",
    "    for index, token in enumerate(test_nlp):\n",
    "        if (token.pos_ in ('PUNCT','SPACE','PROPN')):\n",
    "            indexes.append(index)\n",
    "    np_array = test_nlp.to_array([LOWER, POS, ENT_TYPE, IS_ALPHA])\n",
    "    np_array = np.delete(np_array, indexes, axis=0)\n",
    "    doc2 = Doc(test_nlp.vocab, words=[t.text for i, t in enumerate(test_nlp) if i not in indexes])\n",
    "    doc2.from_array([LOWER, POS, ENT_TYPE, IS_ALPHA], np_array)\n",
    "    return doc2.text    "
   ]
  },
  {
   "cell_type": "code",
   "execution_count": 80,
   "metadata": {},
   "outputs": [],
   "source": [
    "def final_model(test_text):\n",
    "    text = clean_test(test_text)\n",
    "    text = [text]\n",
    "    value = check_ficnonfic(text)\n",
    "    if value>0.5:\n",
    "        df = test_genre(text)\n",
    "        print('This is Fiction')\n",
    "        print(df)\n",
    "    else:\n",
    "        print('This is Non-Fiction')\n",
    "        print(1-value)"
   ]
  }
 ],
 "metadata": {
  "kernelspec": {
   "display_name": "Python 3",
   "language": "python",
   "name": "python3"
  },
  "language_info": {
   "codemirror_mode": {
    "name": "ipython",
    "version": 3
   },
   "file_extension": ".py",
   "mimetype": "text/x-python",
   "name": "python",
   "nbconvert_exporter": "python",
   "pygments_lexer": "ipython3",
   "version": "3.7.3"
  }
 },
 "nbformat": 4,
 "nbformat_minor": 2
}
